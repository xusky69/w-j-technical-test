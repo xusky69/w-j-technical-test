{
  "nbformat": 4,
  "nbformat_minor": 0,
  "metadata": {
    "colab": {
      "name": "Prueba técnica W & J parte 3.ipynb",
      "provenance": [],
      "collapsed_sections": [],
      "machine_shape": "hm"
    },
    "kernelspec": {
      "name": "python3",
      "display_name": "Python 3"
    }
  },
  "cells": [
    {
      "cell_type": "markdown",
      "metadata": {
        "id": "0NzIG7B_uNyS"
      },
      "source": [
        "# Prueba técnica W & J parte 3\n",
        "- por David Ricardo Vivas Ordóñez\n",
        "\n",
        "For this third challenge we will retrieve information regarding the authors of the dataset"
      ]
    },
    {
      "cell_type": "code",
      "metadata": {
        "colab": {
          "base_uri": "https://localhost:8080/"
        },
        "id": "0udZZnMo-cOM",
        "outputId": "fab1dbe4-5565-4f9f-df12-cd343e887005"
      },
      "source": [
        "### datased download\n",
        "!gdown --id 18g0n5IrhTc_7uJlUTYjnavgnjkPrPVJp"
      ],
      "execution_count": null,
      "outputs": [
        {
          "output_type": "stream",
          "text": [
            "Downloading...\n",
            "From: https://drive.google.com/uc?id=18g0n5IrhTc_7uJlUTYjnavgnjkPrPVJp\n",
            "To: /content/News_Category_Dataset_v2.json\n",
            "83.9MB [00:00, 117MB/s] \n"
          ],
          "name": "stdout"
        }
      ]
    },
    {
      "cell_type": "code",
      "metadata": {
        "id": "iARLktg2_XOU",
        "colab": {
          "base_uri": "https://localhost:8080/"
        },
        "outputId": "c3f37ed6-cfa2-4b01-8b33-58105c489264"
      },
      "source": [
        "import numpy as np \n",
        "import matplotlib.pyplot as plt\n",
        "import tensorflow as tf\n",
        "import pandas as pd\n",
        "import nltk\n",
        "import seaborn as sns\n",
        "sns.set_theme(style=\"darkgrid\")\n",
        "\n",
        "nltk.download('punkt')"
      ],
      "execution_count": null,
      "outputs": [
        {
          "output_type": "stream",
          "text": [
            "[nltk_data] Downloading package punkt to /root/nltk_data...\n",
            "[nltk_data]   Unzipping tokenizers/punkt.zip.\n"
          ],
          "name": "stdout"
        },
        {
          "output_type": "execute_result",
          "data": {
            "text/plain": [
              "True"
            ]
          },
          "metadata": {
            "tags": []
          },
          "execution_count": 2
        }
      ]
    },
    {
      "cell_type": "markdown",
      "metadata": {
        "id": "Xtx8TAtQTGL-"
      },
      "source": [
        "We will proceed to load our dataset a usual"
      ]
    },
    {
      "cell_type": "code",
      "metadata": {
        "id": "RRvQz_5ATV4A"
      },
      "source": [
        "df = pd.read_json('/content/News_Category_Dataset_v2.json', lines=True)\n",
        "n_classes = df.category.nunique()\n",
        "df['category'] = pd.Categorical(df['category'])"
      ],
      "execution_count": null,
      "outputs": []
    },
    {
      "cell_type": "markdown",
      "metadata": {
        "id": "jxS0EJm_TYoJ"
      },
      "source": [
        "However, as now we are more interested in the author information of our dataset, we will proceed to\n",
        "1. Discard articles with no author information (empty string is False)"
      ]
    },
    {
      "cell_type": "code",
      "metadata": {
        "id": "v5S8ws8lUAA6"
      },
      "source": [
        "df = df[df['authors'].astype(bool)] # remove empty author entries"
      ],
      "execution_count": null,
      "outputs": []
    },
    {
      "cell_type": "markdown",
      "metadata": {
        "id": "EsKNIG-ZT_RB"
      },
      "source": [
        "2. Tokenize the author column into arrays of words"
      ]
    },
    {
      "cell_type": "code",
      "metadata": {
        "id": "_g0JassOUEvt"
      },
      "source": [
        "tokenized_authors = [ nltk.word_tokenize(item) for item in df['authors']]"
      ],
      "execution_count": null,
      "outputs": []
    },
    {
      "cell_type": "markdown",
      "metadata": {
        "id": "yh1B1KJvUGZo"
      },
      "source": [
        "3. Crop the author names to two words \n",
        "\n",
        "    Given that the general form of an author entry in this dataset is of the form \n",
        "        \"author 1, ..., author n, organization 1, ..., organization n\"\n",
        "    I decided to consider only the main author (first author first name and lastname) for this exploration.Initially I considered using name entity extractors such as [6_line_ner](https://tim.mcnamara.nz/post/2650550090/extracting-names-with-6-lines-of-python-code) or [stanford_ner](https://nlp.stanford.edu/software/CRF-NER.html) and splitting entries with multiple authors into different entries, each with a different author. However, neither of these named entity recognizers performed well enough in my experiments. \n"
      ]
    },
    {
      "cell_type": "code",
      "metadata": {
        "id": "YLxL-treWDX7"
      },
      "source": [
        "def crop_entries(item, req_len = 2):\n",
        "    '''\n",
        "    crops a list of arrays to the desired length\n",
        "    '''\n",
        "    if len(item) <= req_len:\n",
        "        return item\n",
        "    else:\n",
        "        return item[0:2]\n",
        "\n",
        "df['authors'] = list(map(crop_entries, tokenized_authors))                                          # crop entries with more than 2 words to 2 words\n",
        "df = df[df['authors'].map(len) == 2]                                                                # discard entries with less than 1 word \n",
        "df['authors'] = list(map(lambda arr : arr[0] + ' ' + arr[1], df['authors']))                        # concat our two-word author names\n",
        "df['authors'] = pd.Categorical(df['authors']) \n",
        "df['authors_label'] = df['authors'].cat.codes\n",
        "df['category_label'] = df['category'].cat.codes\n",
        "authors = df['authors'].cat.categories\n",
        "categories = df['category'].cat.categories\n",
        "df = df.sort_index(axis=1)"
      ],
      "execution_count": null,
      "outputs": []
    },
    {
      "cell_type": "markdown",
      "metadata": {
        "id": "QNnVINQ1aJFt"
      },
      "source": [
        "Lets now inspect our data"
      ]
    },
    {
      "cell_type": "code",
      "metadata": {
        "colab": {
          "base_uri": "https://localhost:8080/",
          "height": 206
        },
        "id": "2bLFUN3sYkFN",
        "outputId": "313ba2ec-f252-4189-d8c7-32f327abe092"
      },
      "source": [
        "df.head()"
      ],
      "execution_count": null,
      "outputs": [
        {
          "output_type": "execute_result",
          "data": {
            "text/html": [
              "<div>\n",
              "<style scoped>\n",
              "    .dataframe tbody tr th:only-of-type {\n",
              "        vertical-align: middle;\n",
              "    }\n",
              "\n",
              "    .dataframe tbody tr th {\n",
              "        vertical-align: top;\n",
              "    }\n",
              "\n",
              "    .dataframe thead th {\n",
              "        text-align: right;\n",
              "    }\n",
              "</style>\n",
              "<table border=\"1\" class=\"dataframe\">\n",
              "  <thead>\n",
              "    <tr style=\"text-align: right;\">\n",
              "      <th></th>\n",
              "      <th>authors</th>\n",
              "      <th>authors_label</th>\n",
              "      <th>category</th>\n",
              "      <th>category_label</th>\n",
              "      <th>date</th>\n",
              "      <th>headline</th>\n",
              "      <th>link</th>\n",
              "      <th>short_description</th>\n",
              "    </tr>\n",
              "  </thead>\n",
              "  <tbody>\n",
              "    <tr>\n",
              "      <th>0</th>\n",
              "      <td>Melissa Jeltsen</td>\n",
              "      <td>14241</td>\n",
              "      <td>CRIME</td>\n",
              "      <td>6</td>\n",
              "      <td>2018-05-26</td>\n",
              "      <td>There Were 2 Mass Shootings In Texas Last Week...</td>\n",
              "      <td>https://www.huffingtonpost.com/entry/texas-ama...</td>\n",
              "      <td>She left her husband. He killed their children...</td>\n",
              "    </tr>\n",
              "    <tr>\n",
              "      <th>1</th>\n",
              "      <td>Andy McDonald</td>\n",
              "      <td>1292</td>\n",
              "      <td>ENTERTAINMENT</td>\n",
              "      <td>10</td>\n",
              "      <td>2018-05-26</td>\n",
              "      <td>Will Smith Joins Diplo And Nicky Jam For The 2...</td>\n",
              "      <td>https://www.huffingtonpost.com/entry/will-smit...</td>\n",
              "      <td>Of course it has a song.</td>\n",
              "    </tr>\n",
              "    <tr>\n",
              "      <th>2</th>\n",
              "      <td>Ron Dicker</td>\n",
              "      <td>17466</td>\n",
              "      <td>ENTERTAINMENT</td>\n",
              "      <td>10</td>\n",
              "      <td>2018-05-26</td>\n",
              "      <td>Hugh Grant Marries For The First Time At Age 57</td>\n",
              "      <td>https://www.huffingtonpost.com/entry/hugh-gran...</td>\n",
              "      <td>The actor and his longtime girlfriend Anna Ebe...</td>\n",
              "    </tr>\n",
              "    <tr>\n",
              "      <th>3</th>\n",
              "      <td>Ron Dicker</td>\n",
              "      <td>17466</td>\n",
              "      <td>ENTERTAINMENT</td>\n",
              "      <td>10</td>\n",
              "      <td>2018-05-26</td>\n",
              "      <td>Jim Carrey Blasts 'Castrato' Adam Schiff And D...</td>\n",
              "      <td>https://www.huffingtonpost.com/entry/jim-carre...</td>\n",
              "      <td>The actor gives Dems an ass-kicking for not fi...</td>\n",
              "    </tr>\n",
              "    <tr>\n",
              "      <th>4</th>\n",
              "      <td>Ron Dicker</td>\n",
              "      <td>17466</td>\n",
              "      <td>ENTERTAINMENT</td>\n",
              "      <td>10</td>\n",
              "      <td>2018-05-26</td>\n",
              "      <td>Julianna Margulies Uses Donald Trump Poop Bags...</td>\n",
              "      <td>https://www.huffingtonpost.com/entry/julianna-...</td>\n",
              "      <td>The \"Dietland\" actress said using the bags is ...</td>\n",
              "    </tr>\n",
              "  </tbody>\n",
              "</table>\n",
              "</div>"
            ],
            "text/plain": [
              "           authors  ...                                  short_description\n",
              "0  Melissa Jeltsen  ...  She left her husband. He killed their children...\n",
              "1    Andy McDonald  ...                           Of course it has a song.\n",
              "2       Ron Dicker  ...  The actor and his longtime girlfriend Anna Ebe...\n",
              "3       Ron Dicker  ...  The actor gives Dems an ass-kicking for not fi...\n",
              "4       Ron Dicker  ...  The \"Dietland\" actress said using the bags is ...\n",
              "\n",
              "[5 rows x 8 columns]"
            ]
          },
          "metadata": {
            "tags": []
          },
          "execution_count": 7
        }
      ]
    },
    {
      "cell_type": "code",
      "metadata": {
        "id": "kGfX38Jmaw3i"
      },
      "source": [
        "uniques, counts = np.unique(df['authors_label'], return_counts = True)"
      ],
      "execution_count": null,
      "outputs": []
    },
    {
      "cell_type": "markdown",
      "metadata": {
        "id": "he5Itb75d5Gs"
      },
      "source": [
        "The author with the highest number of written articles is"
      ]
    },
    {
      "cell_type": "code",
      "metadata": {
        "colab": {
          "base_uri": "https://localhost:8080/",
          "height": 442
        },
        "id": "fWh6WL6TdwuT",
        "outputId": "b3f328b6-0ba7-4562-d052-a22a1e4a948d"
      },
      "source": [
        "print(authors[np.argmax(counts)], 'with', np.max(counts), 'articles.')\n",
        "df[df['authors']==authors[np.argmax(counts)]]"
      ],
      "execution_count": null,
      "outputs": [
        {
          "output_type": "stream",
          "text": [
            "Lee Moran with 2428 articles.\n"
          ],
          "name": "stdout"
        },
        {
          "output_type": "execute_result",
          "data": {
            "text/html": [
              "<div>\n",
              "<style scoped>\n",
              "    .dataframe tbody tr th:only-of-type {\n",
              "        vertical-align: middle;\n",
              "    }\n",
              "\n",
              "    .dataframe tbody tr th {\n",
              "        vertical-align: top;\n",
              "    }\n",
              "\n",
              "    .dataframe thead th {\n",
              "        text-align: right;\n",
              "    }\n",
              "</style>\n",
              "<table border=\"1\" class=\"dataframe\">\n",
              "  <thead>\n",
              "    <tr style=\"text-align: right;\">\n",
              "      <th></th>\n",
              "      <th>authors</th>\n",
              "      <th>authors_label</th>\n",
              "      <th>category</th>\n",
              "      <th>category_label</th>\n",
              "      <th>date</th>\n",
              "      <th>headline</th>\n",
              "      <th>link</th>\n",
              "      <th>short_description</th>\n",
              "    </tr>\n",
              "  </thead>\n",
              "  <tbody>\n",
              "    <tr>\n",
              "      <th>78</th>\n",
              "      <td>Lee Moran</td>\n",
              "      <td>12214</td>\n",
              "      <td>COMEDY</td>\n",
              "      <td>5</td>\n",
              "      <td>2018-05-24</td>\n",
              "      <td>'Late Night' Writer's Breathless Royal Wedding...</td>\n",
              "      <td>https://www.huffingtonpost.com/entry/royal-wed...</td>\n",
              "      <td>“Then he bites his lip, like, ‘Hmm, girl.’”</td>\n",
              "    </tr>\n",
              "    <tr>\n",
              "      <th>86</th>\n",
              "      <td>Lee Moran</td>\n",
              "      <td>12214</td>\n",
              "      <td>COMEDY</td>\n",
              "      <td>5</td>\n",
              "      <td>2018-05-24</td>\n",
              "      <td>Seth Meyers Gives Donald Trump Some Valuable M...</td>\n",
              "      <td>https://www.huffingtonpost.com/entry/seth-meye...</td>\n",
              "      <td>“Stop trying to make ‘Fetch’ happen.\"</td>\n",
              "    </tr>\n",
              "    <tr>\n",
              "      <th>99</th>\n",
              "      <td>Lee Moran</td>\n",
              "      <td>12214</td>\n",
              "      <td>POLITICS</td>\n",
              "      <td>24</td>\n",
              "      <td>2018-05-24</td>\n",
              "      <td>Chrissy Teigen Taunts Donald Trump Over Twitte...</td>\n",
              "      <td>https://www.huffingtonpost.com/entry/chrissy-t...</td>\n",
              "      <td>Other tweeters, including Mexico's former pres...</td>\n",
              "    </tr>\n",
              "    <tr>\n",
              "      <th>112</th>\n",
              "      <td>Lee Moran</td>\n",
              "      <td>12214</td>\n",
              "      <td>COMEDY</td>\n",
              "      <td>5</td>\n",
              "      <td>2018-05-24</td>\n",
              "      <td>Samantha Bee Torches ICE: 'Let's Shut It The F...</td>\n",
              "      <td>https://www.huffingtonpost.com/entry/samantha-...</td>\n",
              "      <td>\"I’m serious. It’s awful. And we don’t actuall...</td>\n",
              "    </tr>\n",
              "    <tr>\n",
              "      <th>127</th>\n",
              "      <td>Lee Moran</td>\n",
              "      <td>12214</td>\n",
              "      <td>MEDIA</td>\n",
              "      <td>20</td>\n",
              "      <td>2018-05-24</td>\n",
              "      <td>Jake Tapper Shreds Donald Trump With A Long Li...</td>\n",
              "      <td>https://www.huffingtonpost.com/entry/jake-tapp...</td>\n",
              "      <td>\"I could go on, but this is just an hour show.\"</td>\n",
              "    </tr>\n",
              "    <tr>\n",
              "      <th>...</th>\n",
              "      <td>...</td>\n",
              "      <td>...</td>\n",
              "      <td>...</td>\n",
              "      <td>...</td>\n",
              "      <td>...</td>\n",
              "      <td>...</td>\n",
              "      <td>...</td>\n",
              "      <td>...</td>\n",
              "    </tr>\n",
              "    <tr>\n",
              "      <th>74607</th>\n",
              "      <td>Lee Moran</td>\n",
              "      <td>12214</td>\n",
              "      <td>WEIRD NEWS</td>\n",
              "      <td>36</td>\n",
              "      <td>2015-11-15</td>\n",
              "      <td>The Weirdest Version Of MJ’s ‘Smooth Criminal’...</td>\n",
              "      <td>https://www.huffingtonpost.com/entry/michael-j...</td>\n",
              "      <td>The 1987 smash hit gets a pretty bizarre rewor...</td>\n",
              "    </tr>\n",
              "    <tr>\n",
              "      <th>74653</th>\n",
              "      <td>Lee Moran</td>\n",
              "      <td>12214</td>\n",
              "      <td>WEIRD NEWS</td>\n",
              "      <td>36</td>\n",
              "      <td>2015-11-15</td>\n",
              "      <td>Dad Films Dream Vegas Vacation On Son's GoPro,...</td>\n",
              "      <td>https://www.huffingtonpost.com/entry/dream-vac...</td>\n",
              "      <td>Typical dad move.</td>\n",
              "    </tr>\n",
              "    <tr>\n",
              "      <th>74656</th>\n",
              "      <td>Lee Moran</td>\n",
              "      <td>12214</td>\n",
              "      <td>WEIRD NEWS</td>\n",
              "      <td>36</td>\n",
              "      <td>2015-11-15</td>\n",
              "      <td>Watch Bryan Cranston's 'Malcolm In The Middle'...</td>\n",
              "      <td>https://www.huffingtonpost.com/entry/malcolm-h...</td>\n",
              "      <td>We probably should have seen this coming.</td>\n",
              "    </tr>\n",
              "    <tr>\n",
              "      <th>74657</th>\n",
              "      <td>Lee Moran</td>\n",
              "      <td>12214</td>\n",
              "      <td>WEIRD NEWS</td>\n",
              "      <td>36</td>\n",
              "      <td>2015-11-15</td>\n",
              "      <td>Adorable Kittens Act Out Every Single 'Harry P...</td>\n",
              "      <td>https://www.huffingtonpost.com/entry/harry-pot...</td>\n",
              "      <td>Warning: Cuteness Overload</td>\n",
              "    </tr>\n",
              "    <tr>\n",
              "      <th>74858</th>\n",
              "      <td>Lee Moran</td>\n",
              "      <td>12214</td>\n",
              "      <td>WEIRD NEWS</td>\n",
              "      <td>36</td>\n",
              "      <td>2015-11-13</td>\n",
              "      <td>There's Now A Martial Art Specifically For Sel...</td>\n",
              "      <td>https://www.huffingtonpost.com/entry/selfie-st...</td>\n",
              "      <td>Protect yourself as you pout.</td>\n",
              "    </tr>\n",
              "  </tbody>\n",
              "</table>\n",
              "<p>2428 rows × 8 columns</p>\n",
              "</div>"
            ],
            "text/plain": [
              "         authors  ...                                  short_description\n",
              "78     Lee Moran  ...        “Then he bites his lip, like, ‘Hmm, girl.’”\n",
              "86     Lee Moran  ...              “Stop trying to make ‘Fetch’ happen.\"\n",
              "99     Lee Moran  ...  Other tweeters, including Mexico's former pres...\n",
              "112    Lee Moran  ...  \"I’m serious. It’s awful. And we don’t actuall...\n",
              "127    Lee Moran  ...    \"I could go on, but this is just an hour show.\"\n",
              "...          ...  ...                                                ...\n",
              "74607  Lee Moran  ...  The 1987 smash hit gets a pretty bizarre rewor...\n",
              "74653  Lee Moran  ...                                  Typical dad move.\n",
              "74656  Lee Moran  ...          We probably should have seen this coming.\n",
              "74657  Lee Moran  ...                         Warning: Cuteness Overload\n",
              "74858  Lee Moran  ...                      Protect yourself as you pout.\n",
              "\n",
              "[2428 rows x 8 columns]"
            ]
          },
          "metadata": {
            "tags": []
          },
          "execution_count": 9
        }
      ]
    },
    {
      "cell_type": "markdown",
      "metadata": {
        "id": "fNIjoBkHepSG"
      },
      "source": [
        "The average number of articles written per author is \n"
      ]
    },
    {
      "cell_type": "code",
      "metadata": {
        "colab": {
          "base_uri": "https://localhost:8080/"
        },
        "id": "oe18xV3YePcS",
        "outputId": "6247931a-8838-441b-f181-a8274eb3a9d1"
      },
      "source": [
        "print(np.mean(counts), 'articles with a dispersion of', np.std(counts, dtype=np.float64))"
      ],
      "execution_count": null,
      "outputs": [
        {
          "output_type": "stream",
          "text": [
            "7.73249458109509 articles with a dispersion of 49.432936673305775\n"
          ],
          "name": "stdout"
        }
      ]
    },
    {
      "cell_type": "markdown",
      "metadata": {
        "id": "DFAgZbqexbhx"
      },
      "source": [
        "That is a huge dispersion! lets plot the number of written articles per author, sorted by frequency, and see why"
      ]
    },
    {
      "cell_type": "code",
      "metadata": {
        "colab": {
          "base_uri": "https://localhost:8080/",
          "height": 285
        },
        "id": "nao7ggnjgcm1",
        "outputId": "bafddb5a-60e6-4823-821c-53b9b3064aea"
      },
      "source": [
        "dummy  = pd.DataFrame({'sorted_authors': np.arange(len(counts)), 'written_articles': np.sort(counts)})\n",
        "sns.lineplot(data = dummy, x = 'sorted_authors', y = 'written_articles')\n",
        "plt.show()"
      ],
      "execution_count": null,
      "outputs": [
        {
          "output_type": "display_data",
          "data": {
            "image/png": "[encoded data removed]",
            "text/plain": [
              "<Figure size 432x288 with 1 Axes>"
            ]
          },
          "metadata": {
            "tags": []
          }
        }
      ]
    },
    {
      "cell_type": "markdown",
      "metadata": {
        "id": "YA_-5U2Nxy_b"
      },
      "source": [
        "This distribution evidentiates that the vast majority or articles is written by a small fraction of the total different authors. This can be attributed to the fact that online newspapers have a core of main authors, but also many contributions from guests journalists and external contributors."
      ]
    },
    {
      "cell_type": "markdown",
      "metadata": {
        "id": "mxw23ShI2T-W"
      },
      "source": [
        "Lets see now the ammount of categories per author for authors that wrote 100 articles or more:"
      ]
    },
    {
      "cell_type": "code",
      "metadata": {
        "colab": {
          "base_uri": "https://localhost:8080/",
          "height": 461
        },
        "id": "tUb267rPhfxU",
        "outputId": "3581a34e-587f-4217-af41-265d04f06dc4"
      },
      "source": [
        "higher_counts  = np.sort(counts)[counts >= 100]\n",
        "higher_authors = np.argsort(uniques)[counts >= 100]\n",
        "\n",
        "counts_per_author = []\n",
        "for item in higher_authors:\n",
        "    n_cats, _ = np.unique(df['category'][df['authors_label'] == item], return_counts = True)\n",
        "    counts_per_author.append(n_cats)\n",
        "\n",
        "dudu = [len(item) for item in counts_per_author]\n",
        "print('The author with the widest scope of categories is', authors[higher_authors[np.argmax(dudu)]], 'with', np.max(dudu),'categories')\n",
        "print('The mean ammount of different categories per author is', int(np.round(np.mean(dudu))))\n",
        "df[df['authors']==authors[higher_authors[np.argmax(dudu)]]]"
      ],
      "execution_count": null,
      "outputs": [
        {
          "output_type": "stream",
          "text": [
            "The author with the widest scope of categories is Ron Dicker with 38 categories\n",
            "The mean ammount of different categories per author is 9\n"
          ],
          "name": "stdout"
        },
        {
          "output_type": "execute_result",
          "data": {
            "text/html": [
              "<div>\n",
              "<style scoped>\n",
              "    .dataframe tbody tr th:only-of-type {\n",
              "        vertical-align: middle;\n",
              "    }\n",
              "\n",
              "    .dataframe tbody tr th {\n",
              "        vertical-align: top;\n",
              "    }\n",
              "\n",
              "    .dataframe thead th {\n",
              "        text-align: right;\n",
              "    }\n",
              "</style>\n",
              "<table border=\"1\" class=\"dataframe\">\n",
              "  <thead>\n",
              "    <tr style=\"text-align: right;\">\n",
              "      <th></th>\n",
              "      <th>authors</th>\n",
              "      <th>authors_label</th>\n",
              "      <th>category</th>\n",
              "      <th>category_label</th>\n",
              "      <th>date</th>\n",
              "      <th>headline</th>\n",
              "      <th>link</th>\n",
              "      <th>short_description</th>\n",
              "    </tr>\n",
              "  </thead>\n",
              "  <tbody>\n",
              "    <tr>\n",
              "      <th>2</th>\n",
              "      <td>Ron Dicker</td>\n",
              "      <td>17466</td>\n",
              "      <td>ENTERTAINMENT</td>\n",
              "      <td>10</td>\n",
              "      <td>2018-05-26</td>\n",
              "      <td>Hugh Grant Marries For The First Time At Age 57</td>\n",
              "      <td>https://www.huffingtonpost.com/entry/hugh-gran...</td>\n",
              "      <td>The actor and his longtime girlfriend Anna Ebe...</td>\n",
              "    </tr>\n",
              "    <tr>\n",
              "      <th>3</th>\n",
              "      <td>Ron Dicker</td>\n",
              "      <td>17466</td>\n",
              "      <td>ENTERTAINMENT</td>\n",
              "      <td>10</td>\n",
              "      <td>2018-05-26</td>\n",
              "      <td>Jim Carrey Blasts 'Castrato' Adam Schiff And D...</td>\n",
              "      <td>https://www.huffingtonpost.com/entry/jim-carre...</td>\n",
              "      <td>The actor gives Dems an ass-kicking for not fi...</td>\n",
              "    </tr>\n",
              "    <tr>\n",
              "      <th>4</th>\n",
              "      <td>Ron Dicker</td>\n",
              "      <td>17466</td>\n",
              "      <td>ENTERTAINMENT</td>\n",
              "      <td>10</td>\n",
              "      <td>2018-05-26</td>\n",
              "      <td>Julianna Margulies Uses Donald Trump Poop Bags...</td>\n",
              "      <td>https://www.huffingtonpost.com/entry/julianna-...</td>\n",
              "      <td>The \"Dietland\" actress said using the bags is ...</td>\n",
              "    </tr>\n",
              "    <tr>\n",
              "      <th>5</th>\n",
              "      <td>Ron Dicker</td>\n",
              "      <td>17466</td>\n",
              "      <td>ENTERTAINMENT</td>\n",
              "      <td>10</td>\n",
              "      <td>2018-05-26</td>\n",
              "      <td>Morgan Freeman 'Devastated' That Sexual Harass...</td>\n",
              "      <td>https://www.huffingtonpost.com/entry/morgan-fr...</td>\n",
              "      <td>\"It is not right to equate horrific incidents ...</td>\n",
              "    </tr>\n",
              "    <tr>\n",
              "      <th>6</th>\n",
              "      <td>Ron Dicker</td>\n",
              "      <td>17466</td>\n",
              "      <td>ENTERTAINMENT</td>\n",
              "      <td>10</td>\n",
              "      <td>2018-05-26</td>\n",
              "      <td>Donald Trump Is Lovin' New McDonald's Jingle I...</td>\n",
              "      <td>https://www.huffingtonpost.com/entry/donald-tr...</td>\n",
              "      <td>It's catchy, all right.</td>\n",
              "    </tr>\n",
              "    <tr>\n",
              "      <th>...</th>\n",
              "      <td>...</td>\n",
              "      <td>...</td>\n",
              "      <td>...</td>\n",
              "      <td>...</td>\n",
              "      <td>...</td>\n",
              "      <td>...</td>\n",
              "      <td>...</td>\n",
              "      <td>...</td>\n",
              "    </tr>\n",
              "    <tr>\n",
              "      <th>198268</th>\n",
              "      <td>Ron Dicker</td>\n",
              "      <td>17466</td>\n",
              "      <td>BUSINESS</td>\n",
              "      <td>3</td>\n",
              "      <td>2012-02-25</td>\n",
              "      <td>Oscars 2012: How Much Money Is At Stake</td>\n",
              "      <td>https://www.huffingtonpost.com/entry/oscars-20...</td>\n",
              "      <td>Sunday's Academy Awards are all about celebrat...</td>\n",
              "    </tr>\n",
              "    <tr>\n",
              "      <th>198269</th>\n",
              "      <td>Ron Dicker</td>\n",
              "      <td>17466</td>\n",
              "      <td>BUSINESS</td>\n",
              "      <td>3</td>\n",
              "      <td>2012-02-25</td>\n",
              "      <td>Oscars 2012: Ads Grant Marketers An Advantage ...</td>\n",
              "      <td>https://www.huffingtonpost.com/entry/oscars-ad...</td>\n",
              "      <td>Of course, Oscar spots won't reach nearly as m...</td>\n",
              "    </tr>\n",
              "    <tr>\n",
              "      <th>198892</th>\n",
              "      <td>Ron Dicker</td>\n",
              "      <td>17466</td>\n",
              "      <td>BUSINESS</td>\n",
              "      <td>3</td>\n",
              "      <td>2012-02-18</td>\n",
              "      <td>Jeremy Lin Applies For Trademark On Linsanity</td>\n",
              "      <td>https://www.huffingtonpost.com/entry/jeremy-li...</td>\n",
              "      <td>Now that Lin is defending his name, perhaps ev...</td>\n",
              "    </tr>\n",
              "    <tr>\n",
              "      <th>199483</th>\n",
              "      <td>Ron Dicker</td>\n",
              "      <td>17466</td>\n",
              "      <td>BUSINESS</td>\n",
              "      <td>3</td>\n",
              "      <td>2012-02-12</td>\n",
              "      <td>Jeremy Lin, Knicks Star, Shouldn't Be Too Quic...</td>\n",
              "      <td>https://www.huffingtonpost.com/entry/jeremy-li...</td>\n",
              "      <td>Branding wonks have thrown out many comparison...</td>\n",
              "    </tr>\n",
              "    <tr>\n",
              "      <th>200206</th>\n",
              "      <td>Ron Dicker</td>\n",
              "      <td>17466</td>\n",
              "      <td>BUSINESS</td>\n",
              "      <td>3</td>\n",
              "      <td>2012-02-04</td>\n",
              "      <td>Super Bowl 2012: How Brady, Manning Stack Up O...</td>\n",
              "      <td>https://www.huffingtonpost.com/entry/super-bow...</td>\n",
              "      <td>New England Patriots quarterback Tom Brady and...</td>\n",
              "    </tr>\n",
              "  </tbody>\n",
              "</table>\n",
              "<p>1915 rows × 8 columns</p>\n",
              "</div>"
            ],
            "text/plain": [
              "           authors  ...                                  short_description\n",
              "2       Ron Dicker  ...  The actor and his longtime girlfriend Anna Ebe...\n",
              "3       Ron Dicker  ...  The actor gives Dems an ass-kicking for not fi...\n",
              "4       Ron Dicker  ...  The \"Dietland\" actress said using the bags is ...\n",
              "5       Ron Dicker  ...  \"It is not right to equate horrific incidents ...\n",
              "6       Ron Dicker  ...                            It's catchy, all right.\n",
              "...            ...  ...                                                ...\n",
              "198268  Ron Dicker  ...  Sunday's Academy Awards are all about celebrat...\n",
              "198269  Ron Dicker  ...  Of course, Oscar spots won't reach nearly as m...\n",
              "198892  Ron Dicker  ...  Now that Lin is defending his name, perhaps ev...\n",
              "199483  Ron Dicker  ...  Branding wonks have thrown out many comparison...\n",
              "200206  Ron Dicker  ...  New England Patriots quarterback Tom Brady and...\n",
              "\n",
              "[1915 rows x 8 columns]"
            ]
          },
          "metadata": {
            "tags": []
          },
          "execution_count": 12
        }
      ]
    }
  ]
}